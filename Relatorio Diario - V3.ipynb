{
 "cells": [
  {
   "cell_type": "code",
   "execution_count": 28,
   "metadata": {},
   "outputs": [],
   "source": [
    "#Importando as bibliotecas\n",
    "import MetaTrader5 as mt5\n",
    "from datetime import datetime\n",
    "import pandas as pd\n",
    "import numpy as np\n",
    "import matplotlib.pyplot as plt\n",
    "import talib as ta"
   ]
  },
  {
   "cell_type": "code",
   "execution_count": 29,
   "metadata": {},
   "outputs": [],
   "source": [
    "#Ativos\n",
    "ativos = ['IBOV','INDX','IFIX','ICON','IMAT','UTIL','WDO$D','ABEV3','AZUL4','B3SA3','BBAS3','BBDC3','BBDC4','BBSE3','BPAC11',\n",
    "          'BRAP4','BRDT3','BRFS3','BRKM5','BRML3','BTOW3','CCRO3','CIEL3','CMIG4','COGN3','CRFB3','CSAN3',\t'CSNA3',\t'CVCB3',\n",
    "          'CYRE3',\t'ECOR3','EGIE3','ELET3','ELET6','EMBR3','ENBR3',\t'EQTL3',\t'FLRY3',\t'GGBR4',\t\n",
    "          'GNDI3',\t'GOAU4',\t'GOLL4',\t'HAPV3',\t'HGTX3',\t'HYPE3',\t'ITSA4',\t'ITUB4',\t'JBSS3',\t'LAME4',\t\n",
    "          'LREN3',\t'MGLU3',\t'MRFG3',\t'MRVE3',\t'MULT3',\t'PETR3',\t'PETR4',\t'SUZB3',\t'USIM5',\t'VALE3',\t\n",
    "          'TIMP3',\t'TOTS3',\t'UGPA3',\t'VIVT4',\t'VVAR3',\t'WEGE3',\t'YDUQ3',\t'QUAL3',\t'RADL3',\t'RAIL3',\t\n",
    "          'RENT3',\t'SANB11',\t'SBSP3',\t'SMLS3',\t'SULA11',\t'IGTA3',\t'IRBR3',\t'KLBN11',\t'NTCO3',\t'PCAR3',\t\n",
    "          'TAEE11',\t'PMAM3',\t'DTEX3',\t'FHER3',\t'EUCA4',\t'KLBN4',\t'PTBL3',\t'MILS3',\t'FRAS3',\t'POMO4',\t\n",
    "          'RAPT4',\t'TUPY3',\t'ROMI3',\t'TASA4',\t'RLOG3',\t'LOGN3',\t'JSLG3',\t'TGMA3',\t'AGRO3',\t'SLCE3',\t\n",
    "          'TESA3',\t'BEEF3',\t'GRND3',\t'EVEN3',\t'VIVA3',\t'ANIM3',\t'SEER3',\t'LCAM3',\t'MOVI3',\t'ARZZ3',\t\n",
    "          'CEAB3',\t'AMAR3',\t'CNTO3',\t'ENGI4',\t'ENEV3',\t'SAPR4',\t'BMGB4',\t'BPAN4',\t'PRIO3',\t'BIDI4',\t\n",
    "          'BIDI11',\t'LIGT3',\t'CESP6',\t'BKBR3',\t'SMTO3',\t'CAML3',\t'PSSA3',\t'FESA4',\t'PARD3',\t'OIBR4',\t\n",
    "          'ALUP4',\t'NEOE3',\t'MEAL3',\t'JHSF3',\t'ODPV3',\t'WIZS3']"
   ]
  },
  {
   "cell_type": "code",
   "execution_count": 30,
   "metadata": {},
   "outputs": [
    {
     "name": "stdout",
     "output_type": "stream",
     "text": [
      "(500, 2608, '16 Sep 2020')\n"
     ]
    }
   ],
   "source": [
    "#iniciando a conexão com o MT5\n",
    "path = 'C:\\\\Program Files\\\\MetaTrader 5\\\\terminal64.exe'\n",
    "mt5.initialize(path)\n",
    "print (mt5.version())"
   ]
  },
  {
   "cell_type": "code",
   "execution_count": 31,
   "metadata": {},
   "outputs": [],
   "source": [
    "#criando o dataframe\n",
    "dfo = pd.DataFrame() #dados de abertura\n",
    "dfh = pd.DataFrame() #dados de máxima\n",
    "dfl = pd.DataFrame() #dados de mínima\n",
    "dfc = pd.DataFrame() #dados de fechamento\n",
    "dfv = pd.DataFrame() #dados de volume"
   ]
  },
  {
   "cell_type": "code",
   "execution_count": 32,
   "metadata": {},
   "outputs": [],
   "source": [
    "#copy open data\n",
    "for i in ativos:\n",
    "    dfo[i] = mt5.copy_rates_from_pos(i, mt5.TIMEFRAME_D1,0,60)['open']\n",
    "    \n",
    "for i in ativos:\n",
    "    dfh[i] = mt5.copy_rates_from_pos(i, mt5.TIMEFRAME_D1,0,60)['high']\n",
    "\n",
    "for i in ativos:\n",
    "    dfl[i] = mt5.copy_rates_from_pos(i, mt5.TIMEFRAME_D1,0,60)['low']\n",
    "    \n",
    "for i in ativos:\n",
    "    dfc[i] = mt5.copy_rates_from_pos(i, mt5.TIMEFRAME_D1,0,60)['close']\n",
    "    \n",
    "for i in ativos:\n",
    "    dfv[i] = mt5.copy_rates_from_pos(i, mt5.TIMEFRAME_D1,0,60)['real_volume']"
   ]
  },
  {
   "cell_type": "code",
   "execution_count": 33,
   "metadata": {},
   "outputs": [
    {
     "name": "stdout",
     "output_type": "stream",
     "text": [
      "     Fechamento\n",
      "0     100298.00\n",
      "1      20645.00\n",
      "2       2802.00\n",
      "3       5073.00\n",
      "4       4209.00\n",
      "..          ...\n",
      "130       17.89\n",
      "131        3.68\n",
      "132        7.60\n",
      "133       12.82\n",
      "134        9.95\n",
      "\n",
      "[135 rows x 1 columns]\n"
     ]
    },
    {
     "data": {
      "text/plain": [
       "pandas.core.frame.DataFrame"
      ]
     },
     "execution_count": 33,
     "metadata": {},
     "output_type": "execute_result"
    }
   ],
   "source": [
    "close = dfc.iloc[-1]\n",
    "close = close.to_frame(name='Fechamento')\n",
    "close = close.reset_index(drop=True)\n",
    "print (close)\n",
    "type (close)"
   ]
  },
  {
   "cell_type": "code",
   "execution_count": 34,
   "metadata": {},
   "outputs": [
    {
     "name": "stdout",
     "output_type": "stream",
     "text": [
      "        % Dia\n",
      "0    0.000229\n",
      "1    0.023753\n",
      "2    0.003222\n",
      "3    0.002767\n",
      "4    0.033898\n",
      "..        ...\n",
      "130 -0.000559\n",
      "131 -0.002710\n",
      "132  0.013333\n",
      "133  0.009449\n",
      "134 -0.009950\n",
      "\n",
      "[135 rows x 1 columns]\n"
     ]
    },
    {
     "data": {
      "text/plain": [
       "pandas.core.frame.DataFrame"
      ]
     },
     "execution_count": 34,
     "metadata": {},
     "output_type": "execute_result"
    }
   ],
   "source": [
    "#variação percentual do fechamento de hoje\n",
    "pct_change = dfc.pct_change().iloc[-1]\n",
    "pct_change = pct_change.to_frame(name='% Dia')\n",
    "pct_change = pct_change.reset_index(drop=True)\n",
    "print (pct_change)\n",
    "type (pct_change)"
   ]
  },
  {
   "cell_type": "code",
   "execution_count": 35,
   "metadata": {},
   "outputs": [],
   "source": [
    "df_sma_vol = pd.DataFrame()\n",
    "\n",
    "for i in ativos:\n",
    "    df_sma_vol[i] = ta.SMA(dfv[i], timeperiod=20)\n",
    "    \n",
    "sma_vol = []\n",
    "\n",
    "for i in ativos:\n",
    "    if(dfv[i].iloc[-1] > df_sma_vol[i].iloc[-1]):\n",
    "        sma_vol.append('Volume > Média')\n",
    "        \n",
    "    else:\n",
    "        sma_vol.append('Volume < Média')\n",
    "        \n",
    "vol_sma = pd.DataFrame(sma_vol, columns=['Volume & SMA'])"
   ]
  },
  {
   "cell_type": "code",
   "execution_count": 36,
   "metadata": {},
   "outputs": [
    {
     "name": "stdout",
     "output_type": "stream",
     "text": [
      "       Volume & SMA\n",
      "0    Volume < Média\n",
      "1    Volume < Média\n",
      "2    Volume < Média\n",
      "3    Volume < Média\n",
      "4    Volume > Média\n",
      "..              ...\n",
      "130  Volume < Média\n",
      "131  Volume < Média\n",
      "132  Volume < Média\n",
      "133  Volume < Média\n",
      "134  Volume < Média\n",
      "\n",
      "[135 rows x 1 columns]\n"
     ]
    }
   ],
   "source": [
    "print (vol_sma)"
   ]
  },
  {
   "cell_type": "code",
   "execution_count": 37,
   "metadata": {},
   "outputs": [],
   "source": [
    "#Medias Móveis\n",
    "\n",
    "ema9 = pd.DataFrame()\n",
    "ema21 = pd.DataFrame()\n",
    "sma20 = pd.DataFrame()\n",
    "\n",
    "\n",
    "for i in ativos:\n",
    "    ema9[i] = ta.EMA(dfc[i], timeperiod=9)\n",
    "    \n",
    "for i in ativos:\n",
    "    ema21[i] = ta.EMA(dfc[i], timeperiod=21)\n",
    "    \n",
    "for i in ativos:\n",
    "    sma20[i] = ta.SMA(dfc[i], timeperiod=20)"
   ]
  },
  {
   "cell_type": "code",
   "execution_count": 38,
   "metadata": {},
   "outputs": [],
   "source": [
    "#inclinação da média\n",
    "\n",
    "inclinacao_sma20 = []\n",
    "\n",
    "for i in ativos:\n",
    "    if(dfc[i].iloc[-1] > sma20[i].iloc[-1]):\n",
    "        #print ('COMPRA')\n",
    "        inclinacao_sma20.append('COMPRA')\n",
    "    \n",
    "    elif(dfc[i].iloc[-1] < sma20[i].iloc[-1]):\n",
    "        #print ('VENDA')\n",
    "        inclinacao_sma20.append('VENDA')\n",
    "        \n",
    "    else:\n",
    "        #print('SEM SINAL')\n",
    "        inclinacao_sma20.append('SEM SINAL')\n",
    "        \n",
    "inclinacao_sma20 = pd.DataFrame(inclinacao_sma20, columns=['Inclinação SMA 9'])"
   ]
  },
  {
   "cell_type": "code",
   "execution_count": 39,
   "metadata": {},
   "outputs": [],
   "source": [
    "#setup 9.1\n",
    "\n",
    "setup_91 = []\n",
    "\n",
    "for i in ativos:\n",
    "    if(ema9[i].iloc[-1] > ema9[i].iloc[-2] and dfc[i].iloc[-1] > dfc[i].iloc[-2] and ema9[i].iloc[-2] < ema9[i].iloc[-3] and dfc[i].iloc[-1] > ema9[i].iloc[-1]):\n",
    "        #print ('COMPRA')\n",
    "        setup_91.append('COMPRA')\n",
    "    \n",
    "    elif(ema9[i].iloc[-1] < ema9[i].iloc[-2] and dfc[i].iloc[-1] < dfc[i].iloc[-2] and ema9[i].iloc[-2] > ema9[i].iloc[-3] and dfc[i].iloc[-1] < ema9[i].iloc[-1]):\n",
    "        #print ('VENDA')\n",
    "        setup_91.append('VENDA')\n",
    "        \n",
    "    else:\n",
    "        #print('SEM SINAL')\n",
    "        setup_91.append('SEM SINAL')\n",
    "        \n",
    "setup_91 = pd.DataFrame(setup_91, columns=['Setup 9.1'])"
   ]
  },
  {
   "cell_type": "code",
   "execution_count": 40,
   "metadata": {},
   "outputs": [],
   "source": [
    "#setup 9.2\n",
    "\n",
    "setup_92 = []\n",
    "\n",
    "for i in ativos:\n",
    "    if(ema9[i].iloc[-1] > ema9[i].iloc[-2] and dfc[i].iloc[-2] > dfc[i].iloc[-1] and dfc[i].iloc[-1] < dfl[i].iloc[-2] and dfc[i].iloc[-1] > ema9[i].iloc[-1]):\n",
    "        #print ('COMPRA')\n",
    "        setup_92.append('COMPRA')\n",
    "    \n",
    "    elif(ema9[i].iloc[-1] < ema9[i].iloc[-2] and dfc[i].iloc[-2] < dfc[i].iloc[-1] and dfc[i].iloc[-1] > dfh[i].iloc[-1] and dfc[i].iloc[-1] < ema9[i].iloc[-1]):\n",
    "        #print ('VENDA')\n",
    "        setup_92.append('VENDA')\n",
    "        \n",
    "    else:\n",
    "        #print('SEM SINAL')\n",
    "        setup_92.append('SEM SINAL')\n",
    "        \n",
    "setup_92 = pd.DataFrame(setup_92, columns=['Setup 9.2'])"
   ]
  },
  {
   "cell_type": "code",
   "execution_count": 41,
   "metadata": {},
   "outputs": [],
   "source": [
    "quique_media = []\n",
    "\n",
    "for i in ativos:\n",
    "    if(dfl[i].iloc[-1] < ema21[i].iloc[-1] and dfc[i].iloc[-1] > ema21[i].iloc[-1] and dfh[i].iloc[-2] > ema21[i].iloc[-2]):\n",
    "        #print ('COMPRA')\n",
    "        quique_media.append('COMPRA')\n",
    "    \n",
    "    elif(dfh[i].iloc[-1] > ema21[i].iloc[-1] and dfc[i].iloc[-1] < ema21[i].iloc[-1] and dfl[i].iloc[-2] < ema21[i].iloc[-2]):\n",
    "        #print ('VENDA')\n",
    "        quique_media.append('VENDA')\n",
    "        \n",
    "    else:\n",
    "        #print('SEM SINAL')\n",
    "        quique_media.append('SEM SINAL')\n",
    "        \n",
    "quique_media = pd.DataFrame(quique_media, columns=['Quique Média'])"
   ]
  },
  {
   "cell_type": "code",
   "execution_count": 42,
   "metadata": {},
   "outputs": [],
   "source": [
    "ma_cross = []\n",
    "\n",
    "for i in ativos:\n",
    "    if(ema9[i].iloc[-1] > ema21[i].iloc[-1] and ema9[i].iloc[-2] < ema21[i].iloc[-2]):\n",
    "        #print ('COMPRA')\n",
    "        ma_cross.append('COMPRA')\n",
    "    \n",
    "    elif(ema9[i].iloc[-1] < ema21[i].iloc[-1] and ema9[i].iloc[-2] > ema21[i].iloc[-2]):\n",
    "        #print ('VENDA')\n",
    "        ma_cross.append('VENDA')\n",
    "        \n",
    "    else:\n",
    "        #print('SEM SINAL')\n",
    "        ma_cross.append('SEM SINAL')\n",
    "        \n",
    "ma_cross = pd.DataFrame(ma_cross, columns=['EMA 9 x EMA 21'])"
   ]
  },
  {
   "cell_type": "code",
   "execution_count": 43,
   "metadata": {},
   "outputs": [],
   "source": [
    "#MACD\n",
    "\n",
    "macd = pd.DataFrame()\n",
    "macdsignal = pd.DataFrame()\n",
    "macdhist = pd.DataFrame()\n",
    "\n",
    "for i in ativos:\n",
    "    macd[i], macdsignal[i], macdhist[i] = ta.MACD(dfc[i])"
   ]
  },
  {
   "cell_type": "code",
   "execution_count": 44,
   "metadata": {},
   "outputs": [],
   "source": [
    "macd_cross = []\n",
    "\n",
    "for i in ativos:\n",
    "    if(macd[i].iloc[-1] > macdsignal[i].iloc[-1] and macd[i].iloc[-2] < macdsignal[i].iloc[-2]):\n",
    "        #print ('COMPRA')\n",
    "        macd_cross.append('COMPRA')\n",
    "    \n",
    "    elif(macd[i].iloc[-1] < macdsignal[i].iloc[-1] and macd[i].iloc[-2] > macdsignal[i].iloc[-2]):\n",
    "        #print ('VENDA')\n",
    "        macd_cross.append('VENDA')\n",
    "        \n",
    "    else:\n",
    "        #print('SEM SINAL')\n",
    "        macd_cross.append('SEM SINAL')\n",
    "        \n",
    "macd_cross = pd.DataFrame(macd_cross, columns=['MACD x Sinal'])"
   ]
  },
  {
   "cell_type": "code",
   "execution_count": 45,
   "metadata": {},
   "outputs": [],
   "source": [
    "m_dfc = pd.DataFrame()"
   ]
  },
  {
   "cell_type": "code",
   "execution_count": 46,
   "metadata": {},
   "outputs": [],
   "source": [
    "for i in ativos:\n",
    "    m_dfc[i] = mt5.copy_rates_from_pos(i, mt5.TIMEFRAME_MN1,0,2)['close']"
   ]
  },
  {
   "cell_type": "code",
   "execution_count": 47,
   "metadata": {},
   "outputs": [
    {
     "name": "stdout",
     "output_type": "stream",
     "text": [
      "        % Mês\n",
      "0    0.009349\n",
      "1    0.039265\n",
      "2    0.007189\n",
      "3    0.017245\n",
      "4    0.045974\n",
      "..        ...\n",
      "130 -0.040236\n",
      "131 -0.005405\n",
      "132  0.068917\n",
      "133  0.000781\n",
      "134 -0.069224\n",
      "\n",
      "[135 rows x 1 columns]\n"
     ]
    },
    {
     "data": {
      "text/plain": [
       "pandas.core.frame.DataFrame"
      ]
     },
     "execution_count": 47,
     "metadata": {},
     "output_type": "execute_result"
    }
   ],
   "source": [
    "#variação percentual do fechamento de hoje\n",
    "pct_change_m = m_dfc.pct_change().iloc[-1]\n",
    "pct_change_m = pct_change_m.to_frame(name='% Mês')\n",
    "pct_change_m = pct_change_m.reset_index(drop=True)\n",
    "print (pct_change_m)\n",
    "type (pct_change_m)"
   ]
  },
  {
   "cell_type": "code",
   "execution_count": 48,
   "metadata": {},
   "outputs": [
    {
     "data": {
      "text/plain": [
       "\"\\nd_close = pd.DataFrame()\\n\\nfor i in ativos:\\n    close_data = mt5.copy_rates_from_pos(i, mt5.TIMEFRAME_D1,0,1000)\\n    close_data = pd.DataFrame(close_data)\\n    d_close[i] = close_data['close']\\n    print  ('sincronizado!')\\n    \\nsimple_return = (d_close/d_close.shift(1)) - 1\\nsimple_return.tail()\\n\\n#expected return\\nexpected_return = simple_return.mean() * 250\\nexpected_return\\n\\n#standard deviation\\nstd = simple_return.std() * 250 ** 0.5\\nstd\\n\\nexpected_return = pd.DataFrame(expected_return, columns=['Retorno Esperado'])\\nexpected_return = expected_return.reset_index(drop=True)\\n\\nstd = pd.DataFrame(std, columns=['Desvio Padrão'])\\nstd = std.reset_index(drop=True)\\n\""
      ]
     },
     "execution_count": 48,
     "metadata": {},
     "output_type": "execute_result"
    }
   ],
   "source": [
    "\"\"\"\n",
    "d_close = pd.DataFrame()\n",
    "\n",
    "for i in ativos:\n",
    "    close_data = mt5.copy_rates_from_pos(i, mt5.TIMEFRAME_D1,0,1000)\n",
    "    close_data = pd.DataFrame(close_data)\n",
    "    d_close[i] = close_data['close']\n",
    "    print  ('sincronizado!')\n",
    "    \n",
    "simple_return = (d_close/d_close.shift(1)) - 1\n",
    "simple_return.tail()\n",
    "\n",
    "#expected return\n",
    "expected_return = simple_return.mean() * 250\n",
    "expected_return\n",
    "\n",
    "#standard deviation\n",
    "std = simple_return.std() * 250 ** 0.5\n",
    "std\n",
    "\n",
    "expected_return = pd.DataFrame(expected_return, columns=['Retorno Esperado'])\n",
    "expected_return = expected_return.reset_index(drop=True)\n",
    "\n",
    "std = pd.DataFrame(std, columns=['Desvio Padrão'])\n",
    "std = std.reset_index(drop=True)\n",
    "\"\"\""
   ]
  },
  {
   "cell_type": "code",
   "execution_count": 49,
   "metadata": {},
   "outputs": [],
   "source": [
    "w_close = pd.DataFrame()\n",
    "w_high = pd.DataFrame()\n",
    "w_low = pd.DataFrame()\n",
    "\n",
    "\n",
    "for i in ativos:\n",
    "    close_data = mt5.copy_rates_from_pos(i, mt5.TIMEFRAME_W1,0,52)\n",
    "    close_data = pd.DataFrame(close_data)\n",
    "    w_close[i] = close_data['close']\n",
    "    \n",
    "for i in ativos:\n",
    "    high_data = mt5.copy_rates_from_pos(i, mt5.TIMEFRAME_W1,0,52)\n",
    "    high_data = pd.DataFrame(high_data)\n",
    "    w_high[i] = high_data['high']\n",
    "    \n",
    "for i in ativos:\n",
    "    low_data = mt5.copy_rates_from_pos(i, mt5.TIMEFRAME_W1,0,52)\n",
    "    low_data = pd.DataFrame(low_data)\n",
    "    w_low[i] = low_data['low']"
   ]
  },
  {
   "cell_type": "code",
   "execution_count": 50,
   "metadata": {},
   "outputs": [
    {
     "name": "stdout",
     "output_type": "stream",
     "text": [
      "     % Max 52 W\n",
      "0      0.192377\n",
      "1      0.120949\n",
      "2      0.164882\n",
      "3      0.130298\n",
      "4      0.002376\n",
      "..          ...\n",
      "130    0.544997\n",
      "131    1.489130\n",
      "132    0.384211\n",
      "133    0.407176\n",
      "134    0.541709\n",
      "\n",
      "[135 rows x 1 columns]\n",
      "     % Min 52 W\n",
      "0      0.384923\n",
      "1      0.469605\n",
      "2      0.327980\n",
      "3      0.453775\n",
      "4      0.540033\n",
      "..          ...\n",
      "130    0.213527\n",
      "131    0.472826\n",
      "132    0.638158\n",
      "133    0.095164\n",
      "134    0.386935\n",
      "\n",
      "[135 rows x 1 columns]\n"
     ]
    }
   ],
   "source": [
    "high = w_high.max()\n",
    "pct_max = ((high-w_close)/w_close)\n",
    "pct_max = pct_max.iloc[-1]\n",
    "\n",
    "low = w_low.min()\n",
    "pct_min = ((w_close-low)/w_close)\n",
    "pct_min = pct_min.iloc[-1]\n",
    "\n",
    "pct_max = pct_max.to_frame(name='% Max 52 W')\n",
    "pct_max = pct_max.reset_index(drop=True)\n",
    "print (pct_max)\n",
    "\n",
    "pct_min = pct_min.to_frame(name='% Min 52 W')\n",
    "pct_min = pct_min.reset_index(drop=True)\n",
    "print (pct_min)"
   ]
  },
  {
   "cell_type": "code",
   "execution_count": 51,
   "metadata": {},
   "outputs": [],
   "source": [
    "ativos = pd.DataFrame(ativos, columns=['Ações'])"
   ]
  },
  {
   "cell_type": "code",
   "execution_count": 52,
   "metadata": {},
   "outputs": [],
   "source": [
    "\n",
    "frames = [ativos,close,pct_change,pct_change_m,pct_max,pct_min,vol_sma,inclinacao_ema9,ma_cross, setup_91, setup_92, quique_media,macd_cross]\n",
    "\n",
    "result = pd.concat(frames, axis=1)"
   ]
  },
  {
   "cell_type": "code",
   "execution_count": 53,
   "metadata": {},
   "outputs": [
    {
     "name": "stdout",
     "output_type": "stream",
     "text": [
      "     Ações  Fechamento     % Dia     % Mês  % Max 52 W  % Min 52 W  \\\n",
      "0     IBOV   100298.00  0.000229  0.009349    0.192377    0.384923   \n",
      "1     INDX    20645.00  0.023753  0.039265    0.120949    0.469605   \n",
      "2     IFIX     2802.00  0.003222  0.007189    0.164882    0.327980   \n",
      "3     ICON     5073.00  0.002767  0.017245    0.130298    0.453775   \n",
      "4     IMAT     4209.00  0.033898  0.045974    0.002376    0.540033   \n",
      "..     ...         ...       ...       ...         ...         ...   \n",
      "130  NEOE3       17.89 -0.000559 -0.040236    0.544997    0.213527   \n",
      "131  MEAL3        3.68 -0.002710 -0.005405    1.489130    0.472826   \n",
      "132  JHSF3        7.60  0.013333  0.068917    0.384211    0.638158   \n",
      "133  ODPV3       12.82  0.009449  0.000781    0.407176    0.095164   \n",
      "134  WIZS3        9.95 -0.009950 -0.069224    0.541709    0.386935   \n",
      "\n",
      "       Volume & SMA Inclinação EMA 9 EMA 9 x EMA 21  Setup 9.1  Setup 9.2  \\\n",
      "0    Volume < Média           COMPRA      SEM SINAL  SEM SINAL  SEM SINAL   \n",
      "1    Volume < Média           COMPRA         COMPRA  SEM SINAL  SEM SINAL   \n",
      "2    Volume < Média           COMPRA      SEM SINAL  SEM SINAL  SEM SINAL   \n",
      "3    Volume < Média           COMPRA         COMPRA  SEM SINAL  SEM SINAL   \n",
      "4    Volume > Média           COMPRA      SEM SINAL  SEM SINAL  SEM SINAL   \n",
      "..              ...              ...            ...        ...        ...   \n",
      "130  Volume < Média            VENDA      SEM SINAL  SEM SINAL  SEM SINAL   \n",
      "131  Volume < Média            VENDA      SEM SINAL  SEM SINAL  SEM SINAL   \n",
      "132  Volume < Média           COMPRA      SEM SINAL  SEM SINAL  SEM SINAL   \n",
      "133  Volume < Média           COMPRA      SEM SINAL     COMPRA  SEM SINAL   \n",
      "134  Volume < Média            VENDA      SEM SINAL  SEM SINAL  SEM SINAL   \n",
      "\n",
      "    Quique Média MACD x Sinal  \n",
      "0          VENDA    SEM SINAL  \n",
      "1      SEM SINAL    SEM SINAL  \n",
      "2      SEM SINAL    SEM SINAL  \n",
      "3         COMPRA    SEM SINAL  \n",
      "4      SEM SINAL    SEM SINAL  \n",
      "..           ...          ...  \n",
      "130    SEM SINAL    SEM SINAL  \n",
      "131    SEM SINAL        VENDA  \n",
      "132       COMPRA    SEM SINAL  \n",
      "133    SEM SINAL       COMPRA  \n",
      "134    SEM SINAL    SEM SINAL  \n",
      "\n",
      "[135 rows x 13 columns]\n"
     ]
    }
   ],
   "source": [
    "print (result)"
   ]
  },
  {
   "cell_type": "code",
   "execution_count": 54,
   "metadata": {},
   "outputs": [],
   "source": [
    "with pd.ExcelWriter(r'C:\\Users\\Wendel\\OneDrive\\2 - Gerar Relatório\\new_export_df.xlsx') as writer:\n",
    "    result.to_excel(writer, sheet_name='Estratégias')"
   ]
  },
  {
   "cell_type": "code",
   "execution_count": null,
   "metadata": {},
   "outputs": [],
   "source": []
  },
  {
   "cell_type": "code",
   "execution_count": null,
   "metadata": {},
   "outputs": [],
   "source": []
  },
  {
   "cell_type": "code",
   "execution_count": null,
   "metadata": {},
   "outputs": [],
   "source": []
  }
 ],
 "metadata": {
  "kernelspec": {
   "display_name": "Python 3",
   "language": "python",
   "name": "python3"
  },
  "language_info": {
   "codemirror_mode": {
    "name": "ipython",
    "version": 3
   },
   "file_extension": ".py",
   "mimetype": "text/x-python",
   "name": "python",
   "nbconvert_exporter": "python",
   "pygments_lexer": "ipython3",
   "version": "3.8.5"
  }
 },
 "nbformat": 4,
 "nbformat_minor": 4
}
